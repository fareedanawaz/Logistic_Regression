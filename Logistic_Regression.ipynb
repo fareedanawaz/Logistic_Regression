{
 "cells": [
  {
   "cell_type": "code",
   "execution_count": 486,
   "metadata": {},
   "outputs": [],
   "source": [
    "import os\n",
    "import math\n",
    "import numpy as np\n",
    "from matplotlib import pyplot\n",
    "%matplotlib inline"
   ]
  },
  {
   "cell_type": "code",
   "execution_count": 487,
   "metadata": {},
   "outputs": [],
   "source": [
    "#vocabulary\n",
    "file1 = open(\"Dataset/positive-words.txt\", \"r\",encoding='ISO-8859-1')\n",
    "posText = file1.readlines()\n",
    "\n",
    "file2 = open(\"Dataset/negative-words.txt\", \"r\",encoding='ISO-8859-1')\n",
    "negText = file2.readlines()\n",
    "\n",
    "pos_vocab = list()\n",
    "neg_vocab = list()\n",
    "\n",
    "testdataset = []\n",
    "traindataset = []\n",
    "\n",
    "\n",
    "for line in posText:\n",
    "    pos_vocab.append(line.strip())\n",
    "       \n",
    "#print(pos_vocab) \n",
    "for line in negText:\n",
    "    neg_vocab.append(line.strip())\n",
    "#print(neg_vocab)\n"
   ]
  },
  {
   "cell_type": "code",
   "execution_count": 488,
   "metadata": {},
   "outputs": [],
   "source": [
    "def findStrings(s1,s2):\n",
    "    s3 = set(s1)&set(s2)\n",
    "    return s3\n",
    "\n",
    "\n",
    "def findNO(s1):\n",
    "    for index in range(len(s1)):\n",
    "        if s1[index] == \"no\":\n",
    "            return 1\n",
    "        \n",
    "    return 0  \n",
    "\n",
    "\n",
    "def findEXC(s1):\n",
    "    for index in range(len(s1)):\n",
    "        if s1[index] == \"!\":\n",
    "            return 1\n",
    "        \n",
    "    return 0  "
   ]
  },
  {
   "cell_type": "code",
   "execution_count": 489,
   "metadata": {},
   "outputs": [],
   "source": [
    "\n",
    "def preprocessing(datapath,Y):\n",
    "    \n",
    "    numberofpositives = []\n",
    "    numberofnegatives =[]\n",
    "    rating = []\n",
    "    processeddata = []\n",
    "    isNO = []\n",
    "    isEXC =[]\n",
    "    count = []\n",
    "    output = []\n",
    "    \n",
    "    processeddata = []\n",
    "    for file in os.listdir(datapath):\n",
    "            #print(file)\n",
    "            fileopened = open(datapath+ \"/\" + file, \"r\",encoding='ISO-8859-1')\n",
    "            text = fileopened.read()\n",
    "            strings = text.split(' ')\n",
    "            #print(strings) \n",
    "            #print(rating)\n",
    "            #print(numberofwords)\n",
    "            #print(numberofpositives)\n",
    "            numberofpositives.append((len(findStrings(strings,pos_vocab))))\n",
    "            numberofnegatives.append(len(findStrings(strings,neg_vocab)))\n",
    "            ratingsplit = (file.split(\"_\")[1])\n",
    "            rating.append(ratingsplit.split(\".\")[0])\n",
    "            isNO.append(findNO(strings))\n",
    "            isEXC.append(findEXC(strings))\n",
    "            count.append(len(strings))\n",
    "            output.append(Y)\n",
    "            \n",
    "            dataset = np.vstack([numberofpositives,numberofnegatives,rating,count,isNO,isEXC,output]).T\n",
    "            #print('dataset is',dataset)\n",
    "\n",
    "    #print('dataset is',dataset)\n",
    "    fileopened.close()\n",
    "    return dataset\n"
   ]
  },
  {
   "cell_type": "code",
   "execution_count": 490,
   "metadata": {
    "scrolled": true
   },
   "outputs": [
    {
     "name": "stdout",
     "output_type": "stream",
     "text": [
      "[['2' '0' '9' ... '1' '0' '1']\n",
      " ['10' '8' '8' ... '0' '0' '1']\n",
      " ['3' '0' '7' ... '0' '0' '1']\n",
      " ...\n",
      " ['2' '3' '1' ... '0' '0' '0']\n",
      " ['12' '15' '3' ... '0' '0' '0']\n",
      " ['5' '2' '3' ... '0' '0' '0']]\n"
     ]
    }
   ],
   "source": [
    "#print('Positives')\n",
    "traindatasetpos =[]\n",
    "traindatasetneg = []\n",
    "traindatasetpos = preprocessing(\"Dataset/train/pos\",\"1\")\n",
    "#print(traindatasetpos)\n",
    "#print('negatives')\n",
    "traindatasetneg = preprocessing(\"Dataset/train/neg\",\"0\")\n",
    "#print(traindatasetneg)\n",
    "traindatasetall = np.concatenate((traindatasetpos, traindatasetneg))\n",
    "print(traindatasetall)"
   ]
  },
  {
   "cell_type": "code",
   "execution_count": 491,
   "metadata": {},
   "outputs": [],
   "source": [
    "X, Y = traindatasetall[:, 0:6], traindatasetall[:, 6]\n",
    "X = X.astype(np.float)\n",
    "Y = Y.astype(np.float)\n",
    "\n",
    "#normalization\n",
    "means_X = np.mean(X,axis=0)\n",
    "sd_X = np.std(X,axis = 0)\n",
    "for i in range (0,len(X)):\n",
    "    \n",
    "    for j in range(0,6):\n",
    "        X[i][j]= (X[i][j]-means_X[j])/sd_X[j] \n",
    "\n",
    "X0 = np.ones((len(X),1))\n",
    "X = np.hstack((X0,X))\n",
    "\n",
    "#print(X)\n",
    "#print(Y)"
   ]
  },
  {
   "cell_type": "code",
   "execution_count": 492,
   "metadata": {},
   "outputs": [],
   "source": [
    "#sigmoid func\n",
    "def sigmoid(X):\n",
    "    sig = 1/(1+ np.exp(-X))\n",
    "    return sig"
   ]
  },
  {
   "cell_type": "code",
   "execution_count": 493,
   "metadata": {},
   "outputs": [],
   "source": [
    "#loss functn\n",
    "def lossfunt(X,Y,thetas): \n",
    "    m = Y.size \n",
    "    J = 0\n",
    "    S1 = 0\n",
    "    S2 = 0\n",
    "    \n",
    "    \n",
    "    for i in range (0,m):  \n",
    "        dot = np.dot(X[i],thetas)\n",
    "        Sigmoid = sigmoid(dot)\n",
    "        S1 = (np.log(Sigmoid))*Y[i]\n",
    "        S2 = 1 - Sigmoid\n",
    "        S2 = (np.log(S2))*(1-Y[i])\n",
    "        S = S1+S2 \n",
    "        J += S\n",
    "          \n",
    "    J = J/(-1*m) \n",
    "\n",
    "    return J\n"
   ]
  },
  {
   "cell_type": "code",
   "execution_count": 496,
   "metadata": {},
   "outputs": [],
   "source": [
    "def gradientDescent(X, Y,thetas,alpha, n_epoch):\n",
    "    \n",
    "    m = len(Y)\n",
    "    n = len(X[0])\n",
    "    J = list()\n",
    "    Sum0 = 0 \n",
    "    Sum = np.zeros([len(X[0]),1], dtype = float) \n",
    "    \n",
    "    for epoch in range(n_epoch):\n",
    "        j = 0\n",
    "        k = 0\n",
    "        Sum0 = 0\n",
    "    \n",
    "        for j in range(n):\n",
    "            i = 0\n",
    "            Sum[j] = 0\n",
    "            \n",
    "            for i in range(m):\n",
    "                dot = np.dot(X[i],thetas)\n",
    "                #print('dot',dot)\n",
    "                Sum[j] = Sum[j]+((sigmoid(dot))-Y[i])*X[i][j]\n",
    "            Sum[j] = Sum[j]/m\n",
    "            Sum[j] =  thetas[j] - Sum[j]*alpha\n",
    "            \n",
    "            \n",
    "                           \n",
    "        for k in range(n):\n",
    "            thetas[k] = Sum[k]\n",
    "            \n",
    "            \n",
    "        #print(lossfunt(X, Y, thetas))\n",
    "        J.append(lossfunt(X, Y, thetas))\n",
    "    return thetas, J    \n",
    "  "
   ]
  },
  {
   "cell_type": "code",
   "execution_count": 514,
   "metadata": {},
   "outputs": [
    {
     "name": "stdout",
     "output_type": "stream",
     "text": [
      "Thetas are [[-1.11492092e-09]\n",
      " [ 1.17034842e-02]\n",
      " [-8.90301086e-03]\n",
      " [ 4.64485062e-02]\n",
      " [ 8.22929049e-04]\n",
      " [-6.53218659e-03]\n",
      " [ 7.71440514e-05]]\n",
      "Cost is  [0.66900994]\n"
     ]
    }
   ],
   "source": [
    "n_epoch = 100\n",
    "alpha = 0.01\n",
    "\n",
    "thetas = np.zeros([len(X[0]),1], dtype = float)   \n",
    "thetas,J = gradientDescent(X ,Y,thetas,alpha, n_epoch)\n",
    "print('Thetas are',thetas)\n",
    "print('Cost is ',J[-1])"
   ]
  },
  {
   "cell_type": "code",
   "execution_count": 498,
   "metadata": {},
   "outputs": [],
   "source": [
    "def preprocessingTestData(datapath,Y):\n",
    "    \n",
    "    numberofpositives = []\n",
    "    numberofnegatives =[]\n",
    "    rating = []\n",
    "    processeddata = []\n",
    "    isNO = []\n",
    "    isEXC =[]\n",
    "    count = []\n",
    "    output = []\n",
    "    for file in os.listdir(datapath):\n",
    "           # print(file)\n",
    "            fileopened = open(datapath+ \"/\" + file, \"r\",encoding='ISO-8859-1')\n",
    "            text = fileopened.read()\n",
    "            strings = text.split(' ')\n",
    "\n",
    "            numberofpositives.append((len(findStrings(strings,pos_vocab))))\n",
    "            numberofnegatives.append(len(findStrings(strings,neg_vocab)))\n",
    "            ratingsplit = (file.split(\"_\")[1])\n",
    "            rating.append(ratingsplit.split(\".\")[0])\n",
    "            isNO.append(findNO(strings))\n",
    "            isEXC.append(findEXC(strings))\n",
    "            count.append(len(strings))\n",
    "            output.append(Y)\n",
    "            \n",
    "\n",
    "            dataset = np.vstack([numberofpositives,numberofnegatives,rating,count,isNO,isEXC,output]).T\n",
    "           \n",
    "    \n",
    "    fileopened.close()\n",
    "    \n",
    "    return dataset\n",
    "  "
   ]
  },
  {
   "cell_type": "code",
   "execution_count": 499,
   "metadata": {},
   "outputs": [
    {
     "name": "stdout",
     "output_type": "stream",
     "text": [
      "[['6' '7' '9' ... '1' '0' '1']\n",
      " ['3' '6' '9' ... '0' '0' '1']\n",
      " ['3' '0' '9' ... '0' '0' '1']\n",
      " ...\n",
      " ['9' '9' '1' ... '1' '0' '0']\n",
      " ['8' '8' '3' ... '1' '0' '0']\n",
      " ['1' '0' '1' ... '0' '0' '0']]\n"
     ]
    }
   ],
   "source": [
    "#print('Positives Test data')\n",
    "testdatasetpos = preprocessingTestData(\"Dataset/test/pos\",\"1\")\n",
    "#print('negatives Test data')\n",
    "testdatasetneg = preprocessingTestData(\"Dataset/test/neg\",\"0\")\n",
    "testdatasetall = np.concatenate((testdatasetpos, testdatasetneg))\n",
    "print(testdatasetall)"
   ]
  },
  {
   "cell_type": "code",
   "execution_count": 500,
   "metadata": {},
   "outputs": [],
   "source": [
    "#predict \n",
    "def predict(X = [],thetas = []):\n",
    "    h_x = 0.0\n",
    "    l = len(X)\n",
    "    predicted_Y = []\n",
    "    for i in range (0,l):\n",
    "\n",
    "        h_x = np.dot(X[i],thetas) \n",
    "        h_x = sigmoid(h_x)\n",
    "        \n",
    "        if h_x > 0.5:\n",
    "            predicted_Y.append(1)\n",
    "        else:\n",
    "            predicted_Y.append(0)\n",
    "            \n",
    "            \n",
    "    return  predicted_Y"
   ]
  },
  {
   "cell_type": "code",
   "execution_count": 515,
   "metadata": {},
   "outputs": [],
   "source": [
    "test_X = testdatasetall[:, 0:6]\n",
    "test_X = test_X.astype(np.float)\n",
    "\n",
    "Actual_Y = testdatasetall[:, 6]\n",
    "\n",
    "\n",
    "#normalization\n",
    "for i in range (0,len(test_X)):\n",
    "    \n",
    "    for j in range(0,6):\n",
    "        test_X[i][j]= (test_X[i][j]-means_X[j])/sd_X[j] \n",
    "        \n",
    "        \n",
    "\n",
    "X0 = np.ones((len(test_X),1))    \n",
    "test_X = np.hstack((X0,test_X))\n",
    "\n",
    "predicted_Y = predict(test_X,thetas)"
   ]
  },
  {
   "cell_type": "code",
   "execution_count": 516,
   "metadata": {},
   "outputs": [],
   "source": [
    "#confusion Matrix\n",
    "\n",
    "def confusionMatrix(predicted_Y, Actual_Y):\n",
    "    tp = 0\n",
    "    tn = 0\n",
    "    fp = 0\n",
    "    fn = 0\n",
    "\n",
    "    for i in range(len(Actual_Y)): \n",
    "        if predicted_Y[i] ==1 and Actual_Y[i]==1 :\n",
    "           tp += 1\n",
    "        if predicted_Y[i]==1 and Actual_Y[i]== 0:\n",
    "           fp += 1\n",
    "        if predicted_Y[i]==0 and Actual_Y[i] == 0:\n",
    "           tn += 1\n",
    "        if predicted_Y[i]==0 and Actual_Y[i] ==1 :\n",
    "           fn += 1\n",
    "\n",
    "    return(tp, tn, fp, fn)\n"
   ]
  },
  {
   "cell_type": "code",
   "execution_count": 517,
   "metadata": {},
   "outputs": [
    {
     "name": "stdout",
     "output_type": "stream",
     "text": [
      "12459 12458 42 41\n",
      "[[12459    42]\n",
      " [   41 12458]]\n"
     ]
    }
   ],
   "source": [
    "Actual_Y = Actual_Y.astype(np.float)\n",
    "tp, tn, fp, fn = confusionMatrix(predicted_Y,Actual_Y)\n",
    "print(tp, tn, fp, fn)\n",
    "matrix = np.array([[tp,fp], [fn,tn]])\n",
    "print(matrix)"
   ]
  },
  {
   "cell_type": "code",
   "execution_count": 518,
   "metadata": {},
   "outputs": [
    {
     "name": "stdout",
     "output_type": "stream",
     "text": [
      "precision is : 0.9966402687784978\n",
      "accuracy is : 0.99668\n",
      "recall is : 0.99672\n",
      "F1_score is : 0.9966801327946884\n"
     ]
    }
   ],
   "source": [
    "#parameters\n",
    "precision = tp/(tp+fp)\n",
    "accuracy = (tp+tn)/(tp+tn+fp+fn)\n",
    "recall = tp/(tp+fn)\n",
    "F1_score = ((precision*recall)/(precision+recall))*2\n",
    "print('precision is :',precision)\n",
    "print('accuracy is :',accuracy)\n",
    "print('recall is :',recall)\n",
    "print('F1_score is :',F1_score)\n"
   ]
  },
  {
   "cell_type": "code",
   "execution_count": 538,
   "metadata": {},
   "outputs": [],
   "source": [
    "#stochastic\n",
    "np.random.shuffle(traindatasetall)\n",
    "X, Y = traindatasetall[:, 0:6], traindatasetall[:, 6]\n",
    "#print(X\n",
    "#print(Y)\n",
    "X = X.astype(np.float)\n",
    "Y = Y.astype(np.float)\n",
    "#print(Y)\n",
    "\n",
    "#normalization\n",
    "means_X = np.mean(X,axis=0)\n",
    "sd_X = np.std(X,axis = 0)\n",
    "for i in range (0,len(X)):\n",
    "    \n",
    "    for j in range(0,6):\n",
    "        X[i][j]= (X[i][j]-means_X[j])/sd_X[j] \n",
    "\n",
    "X0 = np.ones((len(X),1))\n",
    "X = np.hstack((X0,X))\n",
    "\n",
    "#print(X)\n",
    "#print(Y)\n"
   ]
  },
  {
   "cell_type": "code",
   "execution_count": 534,
   "metadata": {},
   "outputs": [
    {
     "name": "stdout",
     "output_type": "stream",
     "text": [
      "Stochastic Thetas are [[ 0.13294184]\n",
      " [ 1.01640674]\n",
      " [-0.82773029]\n",
      " [ 4.796607  ]\n",
      " [ 0.12932396]\n",
      " [-0.26526963]\n",
      " [-0.15150485]]\n",
      "Cost is  [0.02346442]\n"
     ]
    }
   ],
   "source": [
    "#stochastic \n",
    "def stochasticGradientDescent(X, Y,thetas, alpha, n_epoch):\n",
    "    \n",
    "    m = len(Y)\n",
    "    m = m\n",
    "    n = len(X[0])\n",
    "    J1 = list() \n",
    "    Sum0 = 0 \n",
    "    Sum = np.zeros([len(X[0]),1], dtype = float) \n",
    "    \n",
    "    for epoch in range(n_epoch):\n",
    "            \n",
    "        for i in range(m):\n",
    "            dot = np.dot(X[i],thetas)\n",
    "            sig = sigmoid(dot)\n",
    "            #print('iteration is',i)\n",
    "               \n",
    "            for j in range(n):\n",
    "                Sum[j] = (sig-Y[i])*X[i][j]\n",
    "                thetas[j] =  thetas[j] - Sum[j]*alpha\n",
    "            J1.append(lossfunt(X, Y,thetas))\n",
    "            #print(lossfunt(X, Y,thetas))\n",
    "   \n",
    "    return thetas, J1\n",
    "\n",
    "n_epoch = 100\n",
    "alpha = 0.01\n",
    "thetas = np.zeros([len(X[0]),1], dtype = float)\n",
    "   \n",
    "thetas1,J1 = stochasticGradientDescent(X ,Y, thetas,alpha, n_epoch)\n",
    "print('Stochastic Thetas are',thetas1)\n",
    "print('Cost is ',J1[-1])\n",
    "  "
   ]
  },
  {
   "cell_type": "code",
   "execution_count": 535,
   "metadata": {},
   "outputs": [],
   "source": [
    "test_X = testdatasetall[:, 0:6]\n",
    "test_X = test_X.astype(np.float)\n",
    "\n",
    "Actual_Y = testdatasetall[:, 6]\n",
    "\n",
    "#normalization\n",
    "for i in range (0,len(test_X)):\n",
    "    \n",
    "    for j in range(0,6):\n",
    "        test_X[i][j]= (test_X[i][j]-means_X[j])/sd_X[j] \n",
    "        \n",
    "        \n",
    "\n",
    "X0 = np.ones((len(test_X),1))    \n",
    "test_X = np.hstack((X0,test_X))\n",
    "\n",
    "predicted_Y = predict(test_X,thetas1)"
   ]
  },
  {
   "cell_type": "code",
   "execution_count": 539,
   "metadata": {},
   "outputs": [
    {
     "name": "stdout",
     "output_type": "stream",
     "text": [
      "12491 12458 42 9\n",
      "[[12491    42]\n",
      " [    9 12458]]\n"
     ]
    }
   ],
   "source": [
    "Actual_Y = Actual_Y.astype(np.float)\n",
    "tp, tn, fp, fn = confusionMatrix(predicted_Y,Actual_Y)\n",
    "print(tp, tn, fp, fn)\n",
    "matrix = np.array([[tp,fp], [fn,tn]])\n",
    "print(matrix)"
   ]
  },
  {
   "cell_type": "code",
   "execution_count": 540,
   "metadata": {},
   "outputs": [
    {
     "name": "stdout",
     "output_type": "stream",
     "text": [
      "precision is : 0.9966488470438044\n",
      "accuracy is : 0.99796\n",
      "recall is : 0.99928\n",
      "F1_score is : 0.9979626892501897\n"
     ]
    }
   ],
   "source": [
    "#parameters\n",
    "precision = tp/(tp+fp)\n",
    "accuracy = (tp+tn)/(tp+tn+fp+fn)\n",
    "recall = tp/(tp+fn)\n",
    "F1_score = ((precision*recall)/(precision+recall))*2\n",
    "print('precision is :',precision)\n",
    "print('accuracy is :',accuracy)\n",
    "print('recall is :',recall)\n",
    "print('F1_score is :',F1_score)"
   ]
  },
  {
   "cell_type": "code",
   "execution_count": null,
   "metadata": {},
   "outputs": [],
   "source": []
  }
 ],
 "metadata": {
  "kernelspec": {
   "display_name": "Python 3",
   "language": "python",
   "name": "python3"
  },
  "language_info": {
   "codemirror_mode": {
    "name": "ipython",
    "version": 3
   },
   "file_extension": ".py",
   "mimetype": "text/x-python",
   "name": "python",
   "nbconvert_exporter": "python",
   "pygments_lexer": "ipython3",
   "version": "3.7.4"
  }
 },
 "nbformat": 4,
 "nbformat_minor": 2
}
